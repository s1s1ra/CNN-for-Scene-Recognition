{
 "nbformat": 4,
 "nbformat_minor": 0,
 "metadata": {
  "colab": {
   "provenance": []
  },
  "kernelspec": {
   "name": "python3",
   "language": "python",
   "display_name": "Python 3 (ipykernel)"
  },
  "language_info": {
   "name": "python"
  }
 },
 "cells": [
  {
   "cell_type": "code",
   "execution_count": null,
   "metadata": {
    "id": "vjSZ3qCCKq8L",
    "ExecuteTime": {
     "end_time": "2023-12-10T14:59:04.135841600Z",
     "start_time": "2023-12-10T14:59:04.126527500Z"
    }
   },
   "outputs": [],
   "source": [
    "# Importing libraries for preprocessing, plots and stats\n",
    "import requests\n",
    "import torchvision.transforms as tf\n",
    "from PIL import Image\n",
    "from io import BytesIO\n",
    "from keras.utils import to_categorical\n",
    "import matplotlib.pyplot as plt\n",
    "from sklearn.metrics import accuracy_score\n",
    "import numpy as np\n",
    "import math"
   ]
  },
  {
   "cell_type": "markdown",
   "source": [
    "## Convolution Layer"
   ],
   "metadata": {
    "collapsed": false,
    "id": "KTpCCOvUQP8V"
   }
  },
  {
   "cell_type": "code",
   "execution_count": null,
   "outputs": [],
   "source": [
    "class ConvLayer:\n",
    "\n",
    "    def __init__(self, inp_dim, kernel_size, kernels_num):\n",
    "        self.inp_ch, inp_ht, inp_wd = inp_dim\n",
    "        self.kernels_num = kernels_num\n",
    "        self.inp_dim = inp_dim\n",
    "\n",
    "        # Kernel and Biases initialization\n",
    "        self.kernel_dim = (kernels_num, self.inp_ch, kernel_size, kernel_size)\n",
    "        self.out_dim = (kernels_num, self.inp_ch, inp_ht - kernel_size + 1, inp_wd - kernel_size + 1)\n",
    "        self.kernels = np.random.randn(*self.kernel_dim)\n",
    "\n",
    "\n",
    "    def crossCorrelate(self,inp_matrix, kernel):\n",
    "        # Get the dimensions of the input matrix and the kernel\n",
    "        inp_ht, inp_wd = inp_matrix.shape\n",
    "        kernel_ht, kernel_wd = kernel.shape\n",
    "\n",
    "        out_ht = inp_ht - kernel_ht + 1\n",
    "        out_wd = inp_wd - kernel_wd + 1\n",
    "\n",
    "        # Initialize the output matrix with zeros\n",
    "        out = np.zeros((out_ht, out_wd))\n",
    "\n",
    "        # Perform the 2D cross-correlation\n",
    "        for h in range(out_ht):\n",
    "            for w in range(out_wd):\n",
    "                out[h, w] = np.sum(inp_matrix[h : h + kernel_ht, w : w + kernel_wd] * kernel)\n",
    "\n",
    "        return out\n",
    "\n",
    "    def forward_prop(self, inp):\n",
    "        # conv layer input image initialization\n",
    "        self.inp = inp\n",
    "\n",
    "        # conv layer output initialization\n",
    "        conv_out = np.zeros(self.out_dim)\n",
    "\n",
    "        # cross correlation by iteration\n",
    "        for k in range(self.kernels_num):\n",
    "            for ch in range(self.inp_ch):\n",
    "              conv_out[k, ch] = self.crossCorrelate(self.inp[ch], self.kernels[k, ch])\n",
    "\n",
    "        # RELU Activation\n",
    "        conv_out = np.maximum(conv_out, 0)\n",
    "\n",
    "        return conv_out\n",
    "\n",
    "    def back_prop(self, conv_out_grad, alpha):\n",
    "        kernels_grad = np.zeros_like(self.kernels)\n",
    "\n",
    "        for k in range(self.kernels_num):\n",
    "                for ch in range(self.inp_ch):\n",
    "                  # loss gradient w.r.t kernels\n",
    "                  kernels_grad[k, ch] = self.crossCorrelate(self.inp[ch], conv_out_grad[k, ch])\n",
    "\n",
    "        # Kernel Update (SGD)\n",
    "        self.kernels -= alpha * kernels_grad\n"
   ],
   "metadata": {
    "ExecuteTime": {
     "end_time": "2023-12-10T10:25:32.677319700Z",
     "start_time": "2023-12-10T10:25:32.669110900Z"
    },
    "id": "Y_xohu7lQP8W"
   }
  },
  {
   "cell_type": "markdown",
   "source": [
    "## Max Pool Layer"
   ],
   "metadata": {
    "collapsed": false,
    "id": "Y9EuNaW2QP8W"
   }
  },
  {
   "cell_type": "code",
   "source": [
    "class MaxPoolingLayer:\n",
    "\n",
    "    def __init__(self, fil_size):\n",
    "        self.fil_size = fil_size\n",
    "\n",
    "    def forward_prop(self, inp):\n",
    "\n",
    "        self.inp = inp\n",
    "        self.num_ch, self.num_color_ch, self.inp_ht, self.inp_wd = inp.shape\n",
    "        self.out_ht = self.inp_ht // self.fil_size\n",
    "        self.out_wd = self.inp_wd // self.fil_size\n",
    "\n",
    "        # Computing output shape based on input size and pooling filter size\n",
    "        self.max_pool_out = np.zeros((self.num_ch, self.num_color_ch, self.out_ht, self.out_wd))\n",
    "\n",
    "        # Looping through feature maps produced by convolution\n",
    "        for ch in range(self.num_ch):\n",
    "            # Looping through the RGB colored feature maps\n",
    "            for color in range(self.num_color_ch):\n",
    "              # Traversing the height of input map\n",
    "              for h in range(self.out_ht):\n",
    "                  # Traversing the width of input map\n",
    "                  for w in range(self.out_wd):\n",
    "\n",
    "                      # pool window start point\n",
    "                      s_h = h * self.fil_size\n",
    "                      s_w = w * self.fil_size\n",
    "\n",
    "                      # pool window end point\n",
    "                      e_h = s_h + self.fil_size\n",
    "                      e_w = s_w + self.fil_size\n",
    "\n",
    "                      # Creating a window from the input data\n",
    "                      window = inp[ch, color, s_h:e_h, s_w:e_w]\n",
    "\n",
    "                      # Picking the max value from each window\n",
    "                      self.max_pool_out[ch, color, h, w] = np.max(window)\n",
    "\n",
    "        return self.max_pool_out\n",
    "\n",
    "    def back_prop(self, pool_out_grad):\n",
    "        pool_inp_grad = np.zeros_like(self.inp)\n",
    "\n",
    "        for ch in range(self.num_ch):\n",
    "          for color in range(self.num_color_ch):\n",
    "            for h in range(self.out_ht):\n",
    "              for w in range(self.out_wd):\n",
    "                s_h = h * self.fil_size\n",
    "                s_w = w * self.fil_size\n",
    "\n",
    "                e_h = s_h + self.fil_size\n",
    "                e_w = s_w + self.fil_size\n",
    "                window = self.inp[ch, color, s_h:e_h, s_w:e_w]\n",
    "\n",
    "                mask = window == np.max(window)\n",
    "\n",
    "                pool_inp_grad[ch, color, s_h:e_h, s_w:e_w] = pool_out_grad[ch, color, h, w] * mask\n",
    "\n",
    "        return pool_inp_grad"
   ],
   "metadata": {
    "id": "sVnsYFMYKulO",
    "ExecuteTime": {
     "end_time": "2023-12-10T10:25:32.680852100Z",
     "start_time": "2023-12-10T10:25:32.676117500Z"
    }
   },
   "execution_count": null,
   "outputs": []
  },
  {
   "cell_type": "markdown",
   "source": [
    "## Dense Layer / Fully Connected Layer (with Flattening and ReLu)"
   ],
   "metadata": {
    "collapsed": false,
    "id": "FSM8ScYhQP8X"
   }
  },
  {
   "cell_type": "code",
   "source": [
    "class FlattenAndDenseLayer:\n",
    "\n",
    "    def __init__(self, inp_dim, out_dim):\n",
    "        self.inp_dim = inp_dim # Length of flattened 1d array\n",
    "        self.out_dim = out_dim # Num of neurons in next layer\n",
    "        self.W = np.random.randn(out_dim, self.inp_dim)\n",
    "        self.B = np.random.rand(out_dim, 1)\n",
    "\n",
    "\n",
    "    def forward_prop(self, inp):\n",
    "        self.inp = inp\n",
    "        # Multiple channels input img matrix flattened to 1D\n",
    "        flat_array = inp.flatten().reshape(1, -1)\n",
    "        # Z = W.X + B\n",
    "        self.linear_out = np.dot(self.W, flat_array.T) + self.B\n",
    "\n",
    "        # RELU Activation\n",
    "        self.dense_out = np.maximum(self.linear_out, 0)\n",
    "        return self.dense_out\n",
    "\n",
    "    # RELU derivative or RELU Inverse\n",
    "    def relu_der(self, data):\n",
    "        relu_der = np.maximum(0, data)\n",
    "        relu_der[relu_der > 0] = 1\n",
    "        return relu_der\n",
    "\n",
    "    def back_prop(self, dense_out_grad, alpha):\n",
    "        # Computing dL/dZ\n",
    "        Z_grad = self.relu_der(self.linear_out) * dense_out_grad\n",
    "        # Computing dL/dW\n",
    "        weights_grad = np.dot(Z_grad, self.inp.flatten().reshape(1, -1))\n",
    "\n",
    "        # Computing dL/dB\n",
    "        biases_grad = Z_grad\n",
    "\n",
    "        # Computing dL/d(dense_layer_input)\n",
    "        dense_inp_grad = np.dot(self.W.T, Z_grad)\n",
    "        dense_inp_grad = dense_inp_grad.reshape(self.inp.shape)\n",
    "\n",
    "        # Weight and Bias Update (SGD)\n",
    "        self.W -= alpha * weights_grad\n",
    "        self.B -= alpha * biases_grad\n",
    "\n",
    "        # dL/d(dense_layer_input) is returned\n",
    "        return dense_inp_grad"
   ],
   "metadata": {
    "id": "incmXZBqNhyl",
    "ExecuteTime": {
     "end_time": "2023-12-10T10:25:32.697658800Z",
     "start_time": "2023-12-10T10:25:32.684638800Z"
    }
   },
   "execution_count": null,
   "outputs": []
  },
  {
   "cell_type": "markdown",
   "source": [
    "## Dense Layer / Fully Connected Layer (with Softmax)"
   ],
   "metadata": {
    "collapsed": false,
    "id": "gTd9VdtyQP8X"
   }
  },
  {
   "cell_type": "code",
   "source": [
    "class FinalFCLayer:\n",
    "\n",
    "    def __init__(self, inp_dim, out_dim):\n",
    "        self.inp_dim = inp_dim # Num of neurons in this layer\n",
    "        self.out_dim = out_dim # Num of output classes\n",
    "        self.W = np.random.randn(out_dim, self.inp_dim)\n",
    "        self.B = np.random.rand(out_dim, 1)\n",
    "\n",
    "    def activation_softmax(self, data):\n",
    "        # Input values are shifted for numerical stability\n",
    "        inp_shifted = data - np.max(data)\n",
    "        e_vals = np.exp(inp_shifted)\n",
    "        sum_of_e_vals = np.sum(e_vals, axis=0)\n",
    "\n",
    "        # Class probabilities\n",
    "        softmax_class_probs = e_vals / sum_of_e_vals\n",
    "\n",
    "        return softmax_class_probs\n",
    "\n",
    "    # Softmax derivative or Softmax Inverse\n",
    "    def der_softmax(self, predicted, actual):\n",
    "        return predicted - actual.reshape(3,1)\n",
    "\n",
    "    def forward_prop(self, inp):\n",
    "        self.inp = inp\n",
    "        self.linear_out = np.dot(self.W, inp) + self.B\n",
    "\n",
    "        # Softmax Activation\n",
    "        self.fc_out = self.activation_softmax(self.linear_out)\n",
    "        return self.fc_out\n",
    "\n",
    "    def back_prop(self, fc_out_grad, true, alpha):\n",
    "        # Computing dL/dZ\n",
    "        Z_grad = self.der_softmax(self.fc_out, true)\n",
    "        # Computing dL/dW\n",
    "        weights_grad = np.dot(Z_grad, self.inp.T)\n",
    "        # Computing dL/dB\n",
    "        biases_grad = Z_grad\n",
    "\n",
    "        # Computing dL/d(FC_layer_input)\n",
    "        fc_inp_grad = np.dot(self.W.T, Z_grad)\n",
    "\n",
    "        # Weights and Biases Update (SGD)\n",
    "        self.W -= alpha * weights_grad\n",
    "        self.B -= alpha * biases_grad\n",
    "\n",
    "        # dL/d(FC_layer_input) is returned\n",
    "        return fc_inp_grad"
   ],
   "metadata": {
    "id": "dg1LJhkSRDI_",
    "ExecuteTime": {
     "end_time": "2023-12-10T10:25:32.698274300Z",
     "start_time": "2023-12-10T10:25:32.693150300Z"
    }
   },
   "execution_count": null,
   "outputs": []
  },
  {
   "cell_type": "markdown",
   "source": [
    "# CNN MODEL"
   ],
   "metadata": {
    "collapsed": false,
    "id": "P3Mv8iLXQP8Y"
   }
  },
  {
   "cell_type": "code",
   "execution_count": null,
   "outputs": [],
   "source": [
    "class CnnModel:\n",
    "    def __init__(self, inp_dim, fil_size, num_filters, pool_size, neurons, out_classes):\n",
    "        self.convolve = ConvLayer(inp_dim, fil_size, num_filters)\n",
    "        self.max_pooling = MaxPoolingLayer(pool_size)\n",
    "        self.dense = FlattenAndDenseLayer(int((math.pow(((inp_dim[1] - fil_size + 1)//2),2)) * 3), neurons)\n",
    "        self.fully_conn = FinalFCLayer(neurons, out_classes)\n",
    "\n",
    "    def loss_cross_entropy(self, predicted, true):\n",
    "        classes = 3\n",
    "        # Small epsilon value added to avoid log(0)\n",
    "        eps = 1e-7\n",
    "        predicted = np.clip(predicted, eps, 1 - eps)\n",
    "        error = -np.sum(true * np.log(predicted)) / classes\n",
    "        return error\n",
    "\n",
    "\n",
    "    def grad_loss_cross_entropy(self, true, pred):\n",
    "        classes = true.shape[0]\n",
    "        loss_grad = -true / (pred + 1e-7) / classes\n",
    "        return loss_grad\n",
    "\n",
    "    def train(self, x, Y, alpha, epochs, batch_size):\n",
    "        self.cost_curve = []\n",
    "        self.acc_curve = []\n",
    "        for epoch in range(epochs):\n",
    "            random_batch = np.random.choice(x.shape[0], batch_size, replace=False)\n",
    "            trainX = x[random_batch]\n",
    "            trainY = Y[random_batch]\n",
    "            loss_sum = 0.0\n",
    "            acc_score = 0\n",
    "\n",
    "            for img in range(len(trainX)):\n",
    "                # Steps for forward propagation\n",
    "                conv_layer_output = self.convolve.forward_prop(trainX[img])\n",
    "                pool_layer_output = self.max_pooling.forward_prop(conv_layer_output)\n",
    "                dense_layer_output = self.dense.forward_prop(pool_layer_output)\n",
    "                fc_layer_output = self.fully_conn.forward_prop(dense_layer_output)\n",
    "                loss = self.loss_cross_entropy(fc_layer_output.flatten(), trainY[img])\n",
    "                loss_sum += loss\n",
    "\n",
    "                # Accuracy computation with one hot encoded prediction\n",
    "                prediction_one_hot = np.zeros_like(fc_layer_output)\n",
    "                prediction_one_hot[np.argmax(fc_layer_output)] = 1\n",
    "                prediction_one_hot = prediction_one_hot.flatten()\n",
    "                pred_index = np.argmax(prediction_one_hot)\n",
    "                actual_index = np.argmax(trainY[img])\n",
    "                if pred_index == actual_index:\n",
    "                    acc_score += 1\n",
    "\n",
    "                # Steps for backward propagation\n",
    "                gradient = self.grad_loss_cross_entropy(trainY[img], fc_layer_output.flatten()).reshape((-1, 1))\n",
    "                dl_dFC = self.fully_conn.back_prop(gradient, trainY[img], alpha)\n",
    "                dl_dDense = self.dense.back_prop(dl_dFC, alpha)\n",
    "                pool_grad = self.max_pooling.back_prop(dl_dDense)\n",
    "                self.convolve.back_prop(pool_grad, alpha)\n",
    "\n",
    "\n",
    "            # Summary of current epoch (average loss and average accuracy)\n",
    "            epoch_loss = loss_sum / len(trainX)\n",
    "            epoch_acc = acc_score / len(trainX) * 100.0\n",
    "            self.cost_curve.append(epoch_loss)\n",
    "            self.acc_curve.append(epoch_acc/100.0)\n",
    "            print(\"Epoch \",epoch + 1,\"/\",epochs,\" - Loss: \",round(epoch_loss,4),\" - Accuracy: \",round(epoch_acc,2),\"%\")\n",
    "\n",
    "\n",
    "    def plot_training_curves(self):\n",
    "        # Cost vs Epochs plot\n",
    "        plt.subplot(2, 1, 1)\n",
    "        plt.plot(self.cost_curve, color='red', label='Cost')\n",
    "        plt.xlabel('Epochs')\n",
    "        plt.ylabel('Cost')\n",
    "        plt.title('Cost Over Epochs')\n",
    "\n",
    "        # Accuracy vs epochs plot\n",
    "        plt.subplot(2, 1, 2)\n",
    "        plt.plot(self.acc_curve, color='green', label='Accuracy')\n",
    "        plt.xlabel('Epochs')\n",
    "        plt.ylabel('Accuracy')\n",
    "        plt.title('Accuracy Over Epochs')\n",
    "\n",
    "        # display\n",
    "        plt.tight_layout()\n",
    "        plt.show()\n",
    "\n",
    "    def predict_img(self, img):\n",
    "        conv_layer_output = self.convolve.forward_prop(img)\n",
    "        pool_layer_output = self.max_pooling.forward_prop(conv_layer_output)\n",
    "        dense_layer_output = self.dense.forward_prop(pool_layer_output)\n",
    "        pred = self.fully_conn.forward_prop(dense_layer_output)\n",
    "\n",
    "        return pred\n",
    "\n",
    "    def get_stats(self, data, true_labels):\n",
    "        predicted_labels = []\n",
    "        total_loss = 0\n",
    "\n",
    "        for img in range(len(data)):\n",
    "            prediction = self.predict_img(data[img])\n",
    "            loss = self.loss_cross_entropy(prediction.flatten(), true_labels[img])\n",
    "            total_loss += loss\n",
    "            pred_one_hot = np.zeros_like(prediction)\n",
    "            pred_one_hot[np.argmax(prediction)] = 1\n",
    "            predicted_labels.append(pred_one_hot.flatten())\n",
    "\n",
    "        predicted_labels = np.array(predicted_labels)\n",
    "        accuracy = accuracy_score(predicted_labels, true_labels)\n",
    "        total_loss = total_loss/len(data)\n",
    "\n",
    "        return accuracy, total_loss\n"
   ],
   "metadata": {
    "ExecuteTime": {
     "end_time": "2023-12-10T11:06:03.629667500Z",
     "start_time": "2023-12-10T11:06:03.625311600Z"
    },
    "id": "AgMNXV89QP8Y"
   }
  },
  {
   "cell_type": "markdown",
   "source": [
    "# Data Loading and Preprocessing"
   ],
   "metadata": {
    "collapsed": false,
    "id": "6Gik8gYcQP8Y"
   }
  },
  {
   "cell_type": "code",
   "execution_count": null,
   "outputs": [],
   "source": [
    "# Method to load each image\n",
    "def load_image_from_git(url):\n",
    "  response = requests.get(url)\n",
    "\n",
    "  # load image in RGB mode\n",
    "  image = Image.open(BytesIO(response.content)).convert('RGB')\n",
    "\n",
    "  # set up transformation to resize the image\n",
    "  size_change = tf.Resize([28, 28])\n",
    "  image = size_change(image)\n",
    "  tensor_convert = tf.ToTensor()\n",
    "\n",
    "  # apply transformation and convert to Pytorch tensor\n",
    "  tensor = tensor_convert(image)\n",
    "\n",
    "  return np.array(tensor)"
   ],
   "metadata": {
    "ExecuteTime": {
     "start_time": "2023-12-10T10:25:32.695658900Z"
    },
    "id": "CkocNs8OQP8Y"
   }
  },
  {
   "cell_type": "code",
   "execution_count": null,
   "outputs": [],
   "source": [
    "# Method to load all images and labels\n",
    "def getData(data):\n",
    "    if data == 'train':\n",
    "      img_len = 1000\n",
    "    else:\n",
    "      img_len = 200\n",
    "    tensors = []\n",
    "    lbls = []\n",
    "    all_picture_types = ['b', 'f', 'm']\n",
    "    for i in range(len(all_picture_types)):\n",
    "        for j in range(img_len):\n",
    "          url_ = 'https://raw.githubusercontent.com/s1s1ra/CNN-for-Scene-Recognition/main/'+data+'/'+all_picture_types[i]+str(j)+'.jpg'\n",
    "          img = load_image_from_git(url_)\n",
    "          tensors.append(img)\n",
    "          lbls.append(i)\n",
    "\n",
    "    return np.array(tensors), np.array(lbls)"
   ],
   "metadata": {
    "ExecuteTime": {
     "start_time": "2023-12-10T10:25:32.702783900Z"
    },
    "id": "ffK7zap1QP8Y"
   }
  },
  {
   "cell_type": "code",
   "execution_count": null,
   "outputs": [],
   "source": [
    "# Retrieving training and testing datasets\n",
    "X_train, train_labels = getData('train')\n",
    "X_test, test_labels = getData('test')"
   ],
   "metadata": {
    "ExecuteTime": {
     "start_time": "2023-12-10T10:35:30.676508700Z"
    },
    "id": "oF-EdJnVQP8Y"
   }
  },
  {
   "cell_type": "code",
   "execution_count": null,
   "outputs": [
    {
     "output_type": "execute_result",
     "data": {
      "text/plain": [
       "array([1., 0., 0.], dtype=float32)"
      ]
     },
     "metadata": {},
     "execution_count": 10
    }
   ],
   "source": [
    "# One-hot or binary encoding of true class labels\n",
    "y_train = to_categorical(train_labels)\n",
    "y_test = to_categorical(test_labels)\n",
    "\n",
    "y_test[0]"
   ],
   "metadata": {
    "ExecuteTime": {
     "start_time": "2023-12-10T11:04:21.706058400Z"
    },
    "id": "WBjBr3VgQP8Z",
    "outputId": "efa03bd7-e6a8-4744-a268-e978f2fff945",
    "colab": {
     "base_uri": "https://localhost:8080/"
    }
   }
  },
  {
   "cell_type": "code",
   "execution_count": null,
   "outputs": [],
   "source": [
    "# Shuffling the data\n",
    "shuffled_indices = np.random.permutation(X_train.shape[0])\n",
    "X_train_shuffled = X_train[shuffled_indices]\n",
    "y_train_shuffled = y_train[shuffled_indices]\n",
    "\n",
    "shuffled_indices = np.random.permutation(X_test.shape[0])\n",
    "X_test_shuffled = X_test[shuffled_indices]\n",
    "y_test_shuffled = y_test[shuffled_indices]"
   ],
   "metadata": {
    "ExecuteTime": {
     "start_time": "2023-12-10T11:04:55.835496100Z"
    },
    "id": "a390xVHdQP8Z"
   }
  },
  {
   "cell_type": "code",
   "execution_count": null,
   "outputs": [],
   "source": [
    "# Renaming to conventional variable names\n",
    "X_train, y_train, X_test, y_test = X_train_shuffled, y_train_shuffled, X_test_shuffled, y_test_shuffled"
   ],
   "metadata": {
    "ExecuteTime": {
     "start_time": "2023-12-10T11:04:56.880756600Z"
    },
    "id": "2igxYRJWQP8Z"
   }
  },
  {
   "cell_type": "code",
   "execution_count": null,
   "outputs": [
    {
     "output_type": "stream",
     "name": "stdout",
     "text": [
      "(3000, 3, 28, 28)\n",
      "(3000, 3)\n",
      "(600, 3, 28, 28)\n",
      "(600, 3)\n"
     ]
    }
   ],
   "source": [
    "print(X_train.shape)\n",
    "print(y_train.shape)\n",
    "print(X_test.shape)\n",
    "print(y_test.shape)"
   ],
   "metadata": {
    "ExecuteTime": {
     "start_time": "2023-12-10T11:04:57.472787100Z"
    },
    "id": "kvUPRN10QP8Z",
    "outputId": "0b4dfce1-04a0-4ad4-ddc1-f95af78e7bfa",
    "colab": {
     "base_uri": "https://localhost:8080/"
    }
   }
  },
  {
   "cell_type": "markdown",
   "source": [
    "# Model Training and Testing"
   ],
   "metadata": {
    "collapsed": false,
    "id": "qfBiQDYIQP8Z"
   }
  },
  {
   "cell_type": "code",
   "execution_count": null,
   "outputs": [
    {
     "output_type": "stream",
     "name": "stdout",
     "text": [
      "Epoch  1 / 200  - Loss:  2.8931  - Accuracy:  42.13 %\n",
      "Epoch  2 / 200  - Loss:  2.5966  - Accuracy:  46.8 %\n",
      "Epoch  3 / 200  - Loss:  2.3347  - Accuracy:  48.8 %\n",
      "Epoch  4 / 200  - Loss:  2.073  - Accuracy:  54.8 %\n",
      "Epoch  5 / 200  - Loss:  2.0101  - Accuracy:  51.73 %\n",
      "Epoch  6 / 200  - Loss:  1.9072  - Accuracy:  52.67 %\n",
      "Epoch  7 / 200  - Loss:  1.9096  - Accuracy:  49.33 %\n",
      "Epoch  8 / 200  - Loss:  1.7374  - Accuracy:  54.53 %\n",
      "Epoch  9 / 200  - Loss:  1.5368  - Accuracy:  55.33 %\n",
      "Epoch  10 / 200  - Loss:  1.4785  - Accuracy:  55.07 %\n",
      "Epoch  11 / 200  - Loss:  1.3643  - Accuracy:  54.13 %\n",
      "Epoch  12 / 200  - Loss:  1.2888  - Accuracy:  57.33 %\n",
      "Epoch  13 / 200  - Loss:  1.2736  - Accuracy:  57.33 %\n",
      "Epoch  14 / 200  - Loss:  1.228  - Accuracy:  56.53 %\n",
      "Epoch  15 / 200  - Loss:  1.2722  - Accuracy:  56.93 %\n",
      "Epoch  16 / 200  - Loss:  1.0116  - Accuracy:  60.0 %\n",
      "Epoch  17 / 200  - Loss:  1.0857  - Accuracy:  56.93 %\n",
      "Epoch  18 / 200  - Loss:  1.008  - Accuracy:  59.33 %\n",
      "Epoch  19 / 200  - Loss:  0.9312  - Accuracy:  60.4 %\n",
      "Epoch  20 / 200  - Loss:  0.9581  - Accuracy:  59.33 %\n",
      "Epoch  21 / 200  - Loss:  0.8928  - Accuracy:  59.6 %\n",
      "Epoch  22 / 200  - Loss:  0.8259  - Accuracy:  59.87 %\n",
      "Epoch  23 / 200  - Loss:  0.8304  - Accuracy:  60.67 %\n",
      "Epoch  24 / 200  - Loss:  0.8314  - Accuracy:  58.8 %\n",
      "Epoch  25 / 200  - Loss:  0.7846  - Accuracy:  61.33 %\n",
      "Epoch  26 / 200  - Loss:  0.75  - Accuracy:  60.0 %\n",
      "Epoch  27 / 200  - Loss:  0.7145  - Accuracy:  61.07 %\n",
      "Epoch  28 / 200  - Loss:  0.6788  - Accuracy:  61.73 %\n",
      "Epoch  29 / 200  - Loss:  0.6238  - Accuracy:  65.07 %\n",
      "Epoch  30 / 200  - Loss:  0.665  - Accuracy:  61.87 %\n",
      "Epoch  31 / 200  - Loss:  0.6724  - Accuracy:  62.93 %\n",
      "Epoch  32 / 200  - Loss:  0.5722  - Accuracy:  61.2 %\n",
      "Epoch  33 / 200  - Loss:  0.53  - Accuracy:  63.87 %\n",
      "Epoch  34 / 200  - Loss:  0.5864  - Accuracy:  60.53 %\n",
      "Epoch  35 / 200  - Loss:  0.6146  - Accuracy:  61.2 %\n",
      "Epoch  36 / 200  - Loss:  0.5258  - Accuracy:  65.2 %\n",
      "Epoch  37 / 200  - Loss:  0.4804  - Accuracy:  66.0 %\n",
      "Epoch  38 / 200  - Loss:  0.5167  - Accuracy:  63.2 %\n",
      "Epoch  39 / 200  - Loss:  0.5279  - Accuracy:  63.33 %\n",
      "Epoch  40 / 200  - Loss:  0.5373  - Accuracy:  60.53 %\n",
      "Epoch  41 / 200  - Loss:  0.5406  - Accuracy:  62.67 %\n",
      "Epoch  42 / 200  - Loss:  0.446  - Accuracy:  66.0 %\n",
      "Epoch  43 / 200  - Loss:  0.4473  - Accuracy:  64.67 %\n",
      "Epoch  44 / 200  - Loss:  0.4468  - Accuracy:  67.33 %\n",
      "Epoch  45 / 200  - Loss:  0.4978  - Accuracy:  63.2 %\n",
      "Epoch  46 / 200  - Loss:  0.3977  - Accuracy:  67.73 %\n",
      "Epoch  47 / 200  - Loss:  0.4571  - Accuracy:  61.07 %\n",
      "Epoch  48 / 200  - Loss:  0.3799  - Accuracy:  65.87 %\n",
      "Epoch  49 / 200  - Loss:  0.379  - Accuracy:  67.07 %\n",
      "Epoch  50 / 200  - Loss:  0.4282  - Accuracy:  64.4 %\n",
      "Epoch  51 / 200  - Loss:  0.3917  - Accuracy:  68.4 %\n",
      "Epoch  52 / 200  - Loss:  0.3771  - Accuracy:  68.0 %\n",
      "Epoch  53 / 200  - Loss:  0.4369  - Accuracy:  65.87 %\n",
      "Epoch  54 / 200  - Loss:  0.3628  - Accuracy:  66.27 %\n",
      "Epoch  55 / 200  - Loss:  0.3831  - Accuracy:  68.4 %\n",
      "Epoch  56 / 200  - Loss:  0.3722  - Accuracy:  69.07 %\n",
      "Epoch  57 / 200  - Loss:  0.3552  - Accuracy:  66.93 %\n",
      "Epoch  58 / 200  - Loss:  0.3382  - Accuracy:  67.87 %\n",
      "Epoch  59 / 200  - Loss:  0.3505  - Accuracy:  67.33 %\n",
      "Epoch  60 / 200  - Loss:  0.2917  - Accuracy:  70.67 %\n",
      "Epoch  61 / 200  - Loss:  0.3644  - Accuracy:  65.6 %\n",
      "Epoch  62 / 200  - Loss:  0.3542  - Accuracy:  68.53 %\n",
      "Epoch  63 / 200  - Loss:  0.3797  - Accuracy:  67.2 %\n",
      "Epoch  64 / 200  - Loss:  0.3027  - Accuracy:  70.53 %\n",
      "Epoch  65 / 200  - Loss:  0.3638  - Accuracy:  65.07 %\n",
      "Epoch  66 / 200  - Loss:  0.3269  - Accuracy:  69.33 %\n",
      "Epoch  67 / 200  - Loss:  0.3628  - Accuracy:  65.33 %\n",
      "Epoch  68 / 200  - Loss:  0.3489  - Accuracy:  66.13 %\n",
      "Epoch  69 / 200  - Loss:  0.3031  - Accuracy:  70.67 %\n",
      "Epoch  70 / 200  - Loss:  0.2963  - Accuracy:  73.47 %\n",
      "Epoch  71 / 200  - Loss:  0.3227  - Accuracy:  68.4 %\n",
      "Epoch  72 / 200  - Loss:  0.3109  - Accuracy:  70.13 %\n",
      "Epoch  73 / 200  - Loss:  0.3025  - Accuracy:  68.53 %\n",
      "Epoch  74 / 200  - Loss:  0.3315  - Accuracy:  65.33 %\n",
      "Epoch  75 / 200  - Loss:  0.3164  - Accuracy:  65.87 %\n",
      "Epoch  76 / 200  - Loss:  0.2933  - Accuracy:  67.87 %\n",
      "Epoch  77 / 200  - Loss:  0.3009  - Accuracy:  69.6 %\n",
      "Epoch  78 / 200  - Loss:  0.2875  - Accuracy:  69.47 %\n",
      "Epoch  79 / 200  - Loss:  0.2859  - Accuracy:  69.07 %\n",
      "Epoch  80 / 200  - Loss:  0.264  - Accuracy:  70.53 %\n",
      "Epoch  81 / 200  - Loss:  0.2761  - Accuracy:  70.4 %\n",
      "Epoch  82 / 200  - Loss:  0.2661  - Accuracy:  69.73 %\n",
      "Epoch  83 / 200  - Loss:  0.2927  - Accuracy:  67.6 %\n",
      "Epoch  84 / 200  - Loss:  0.2689  - Accuracy:  71.07 %\n",
      "Epoch  85 / 200  - Loss:  0.3039  - Accuracy:  68.0 %\n",
      "Epoch  86 / 200  - Loss:  0.2788  - Accuracy:  70.8 %\n",
      "Epoch  87 / 200  - Loss:  0.2531  - Accuracy:  72.93 %\n",
      "Epoch  88 / 200  - Loss:  0.3  - Accuracy:  67.2 %\n",
      "Epoch  89 / 200  - Loss:  0.2588  - Accuracy:  72.27 %\n",
      "Epoch  90 / 200  - Loss:  0.2471  - Accuracy:  72.8 %\n",
      "Epoch  91 / 200  - Loss:  0.2814  - Accuracy:  71.87 %\n",
      "Epoch  92 / 200  - Loss:  0.2838  - Accuracy:  70.27 %\n",
      "Epoch  93 / 200  - Loss:  0.2366  - Accuracy:  70.53 %\n",
      "Epoch  94 / 200  - Loss:  0.2643  - Accuracy:  71.47 %\n",
      "Epoch  95 / 200  - Loss:  0.2532  - Accuracy:  70.67 %\n",
      "Epoch  96 / 200  - Loss:  0.2375  - Accuracy:  71.73 %\n",
      "Epoch  97 / 200  - Loss:  0.28  - Accuracy:  68.8 %\n",
      "Epoch  98 / 200  - Loss:  0.2687  - Accuracy:  72.27 %\n",
      "Epoch  99 / 200  - Loss:  0.2506  - Accuracy:  71.47 %\n",
      "Epoch  100 / 200  - Loss:  0.2451  - Accuracy:  72.0 %\n",
      "Epoch  101 / 200  - Loss:  0.2329  - Accuracy:  74.0 %\n",
      "Epoch  102 / 200  - Loss:  0.2743  - Accuracy:  69.87 %\n",
      "Epoch  103 / 200  - Loss:  0.2638  - Accuracy:  73.2 %\n",
      "Epoch  104 / 200  - Loss:  0.246  - Accuracy:  70.8 %\n",
      "Epoch  105 / 200  - Loss:  0.2399  - Accuracy:  72.4 %\n",
      "Epoch  106 / 200  - Loss:  0.2236  - Accuracy:  73.47 %\n",
      "Epoch  107 / 200  - Loss:  0.2482  - Accuracy:  71.6 %\n",
      "Epoch  108 / 200  - Loss:  0.2418  - Accuracy:  71.6 %\n",
      "Epoch  109 / 200  - Loss:  0.2428  - Accuracy:  72.93 %\n",
      "Epoch  110 / 200  - Loss:  0.2289  - Accuracy:  72.4 %\n",
      "Epoch  111 / 200  - Loss:  0.2411  - Accuracy:  70.4 %\n",
      "Epoch  112 / 200  - Loss:  0.2253  - Accuracy:  71.6 %\n",
      "Epoch  113 / 200  - Loss:  0.2462  - Accuracy:  73.87 %\n",
      "Epoch  114 / 200  - Loss:  0.237  - Accuracy:  74.13 %\n",
      "Epoch  115 / 200  - Loss:  0.2315  - Accuracy:  73.07 %\n",
      "Epoch  116 / 200  - Loss:  0.2136  - Accuracy:  75.87 %\n",
      "Epoch  117 / 200  - Loss:  0.2308  - Accuracy:  71.6 %\n",
      "Epoch  118 / 200  - Loss:  0.2579  - Accuracy:  70.0 %\n",
      "Epoch  119 / 200  - Loss:  0.2129  - Accuracy:  74.67 %\n",
      "Epoch  120 / 200  - Loss:  0.2467  - Accuracy:  73.87 %\n",
      "Epoch  121 / 200  - Loss:  0.2396  - Accuracy:  72.4 %\n",
      "Epoch  122 / 200  - Loss:  0.2126  - Accuracy:  74.27 %\n",
      "Epoch  123 / 200  - Loss:  0.2459  - Accuracy:  71.87 %\n",
      "Epoch  124 / 200  - Loss:  0.2384  - Accuracy:  72.67 %\n",
      "Epoch  125 / 200  - Loss:  0.2221  - Accuracy:  74.93 %\n",
      "Epoch  126 / 200  - Loss:  0.227  - Accuracy:  72.0 %\n",
      "Epoch  127 / 200  - Loss:  0.2171  - Accuracy:  73.47 %\n",
      "Epoch  128 / 200  - Loss:  0.235  - Accuracy:  72.13 %\n",
      "Epoch  129 / 200  - Loss:  0.2127  - Accuracy:  75.2 %\n",
      "Epoch  130 / 200  - Loss:  0.2332  - Accuracy:  72.53 %\n",
      "Epoch  131 / 200  - Loss:  0.2463  - Accuracy:  72.8 %\n",
      "Epoch  132 / 200  - Loss:  0.2181  - Accuracy:  74.8 %\n",
      "Epoch  133 / 200  - Loss:  0.1883  - Accuracy:  77.47 %\n",
      "Epoch  134 / 200  - Loss:  0.2267  - Accuracy:  74.8 %\n",
      "Epoch  135 / 200  - Loss:  0.2155  - Accuracy:  75.73 %\n",
      "Epoch  136 / 200  - Loss:  0.2535  - Accuracy:  72.4 %\n",
      "Epoch  137 / 200  - Loss:  0.2289  - Accuracy:  71.2 %\n",
      "Epoch  138 / 200  - Loss:  0.1986  - Accuracy:  76.8 %\n",
      "Epoch  139 / 200  - Loss:  0.2123  - Accuracy:  75.33 %\n",
      "Epoch  140 / 200  - Loss:  0.2083  - Accuracy:  74.8 %\n",
      "Epoch  141 / 200  - Loss:  0.2205  - Accuracy:  74.4 %\n",
      "Epoch  142 / 200  - Loss:  0.2114  - Accuracy:  74.8 %\n",
      "Epoch  143 / 200  - Loss:  0.2456  - Accuracy:  71.87 %\n",
      "Epoch  144 / 200  - Loss:  0.1956  - Accuracy:  76.4 %\n",
      "Epoch  145 / 200  - Loss:  0.2267  - Accuracy:  71.33 %\n",
      "Epoch  146 / 200  - Loss:  0.2335  - Accuracy:  73.73 %\n",
      "Epoch  147 / 200  - Loss:  0.1962  - Accuracy:  76.0 %\n",
      "Epoch  148 / 200  - Loss:  0.1995  - Accuracy:  75.47 %\n",
      "Epoch  149 / 200  - Loss:  0.2296  - Accuracy:  73.47 %\n",
      "Epoch  150 / 200  - Loss:  0.2143  - Accuracy:  74.67 %\n",
      "Epoch  151 / 200  - Loss:  0.2185  - Accuracy:  74.4 %\n",
      "Epoch  152 / 200  - Loss:  0.1988  - Accuracy:  75.47 %\n",
      "Epoch  153 / 200  - Loss:  0.2185  - Accuracy:  74.0 %\n",
      "Epoch  154 / 200  - Loss:  0.2147  - Accuracy:  75.33 %\n",
      "Epoch  155 / 200  - Loss:  0.2238  - Accuracy:  74.8 %\n",
      "Epoch  156 / 200  - Loss:  0.2102  - Accuracy:  74.27 %\n",
      "Epoch  157 / 200  - Loss:  0.2157  - Accuracy:  74.93 %\n",
      "Epoch  158 / 200  - Loss:  0.2235  - Accuracy:  73.33 %\n",
      "Epoch  159 / 200  - Loss:  0.1978  - Accuracy:  74.93 %\n",
      "Epoch  160 / 200  - Loss:  0.2155  - Accuracy:  74.53 %\n",
      "Epoch  161 / 200  - Loss:  0.1936  - Accuracy:  77.07 %\n",
      "Epoch  162 / 200  - Loss:  0.2321  - Accuracy:  73.47 %\n",
      "Epoch  163 / 200  - Loss:  0.2151  - Accuracy:  74.27 %\n",
      "Epoch  164 / 200  - Loss:  0.2209  - Accuracy:  74.0 %\n",
      "Epoch  165 / 200  - Loss:  0.1906  - Accuracy:  76.13 %\n",
      "Epoch  166 / 200  - Loss:  0.2126  - Accuracy:  75.47 %\n",
      "Epoch  167 / 200  - Loss:  0.2064  - Accuracy:  74.93 %\n",
      "Epoch  168 / 200  - Loss:  0.202  - Accuracy:  74.8 %\n",
      "Epoch  169 / 200  - Loss:  0.1987  - Accuracy:  76.13 %\n",
      "Epoch  170 / 200  - Loss:  0.2013  - Accuracy:  72.93 %\n",
      "Epoch  171 / 200  - Loss:  0.2021  - Accuracy:  75.87 %\n",
      "Epoch  172 / 200  - Loss:  0.2066  - Accuracy:  76.27 %\n",
      "Epoch  173 / 200  - Loss:  0.222  - Accuracy:  73.33 %\n",
      "Epoch  174 / 200  - Loss:  0.1853  - Accuracy:  76.13 %\n",
      "Epoch  175 / 200  - Loss:  0.2032  - Accuracy:  77.33 %\n",
      "Epoch  176 / 200  - Loss:  0.2143  - Accuracy:  74.27 %\n",
      "Epoch  177 / 200  - Loss:  0.1974  - Accuracy:  75.73 %\n",
      "Epoch  178 / 200  - Loss:  0.199  - Accuracy:  76.0 %\n",
      "Epoch  179 / 200  - Loss:  0.1999  - Accuracy:  76.4 %\n",
      "Epoch  180 / 200  - Loss:  0.2217  - Accuracy:  73.87 %\n",
      "Epoch  181 / 200  - Loss:  0.2083  - Accuracy:  75.33 %\n",
      "Epoch  182 / 200  - Loss:  0.2118  - Accuracy:  75.07 %\n",
      "Epoch  183 / 200  - Loss:  0.2021  - Accuracy:  74.67 %\n",
      "Epoch  184 / 200  - Loss:  0.2087  - Accuracy:  76.4 %\n",
      "Epoch  185 / 200  - Loss:  0.2037  - Accuracy:  75.33 %\n",
      "Epoch  186 / 200  - Loss:  0.1886  - Accuracy:  78.13 %\n",
      "Epoch  187 / 200  - Loss:  0.2093  - Accuracy:  75.6 %\n",
      "Epoch  188 / 200  - Loss:  0.2175  - Accuracy:  73.47 %\n",
      "Epoch  189 / 200  - Loss:  0.2083  - Accuracy:  76.53 %\n",
      "Epoch  190 / 200  - Loss:  0.1895  - Accuracy:  76.4 %\n",
      "Epoch  191 / 200  - Loss:  0.1844  - Accuracy:  78.0 %\n",
      "Epoch  192 / 200  - Loss:  0.1937  - Accuracy:  78.53 %\n",
      "Epoch  193 / 200  - Loss:  0.1891  - Accuracy:  77.07 %\n",
      "Epoch  194 / 200  - Loss:  0.1868  - Accuracy:  75.07 %\n",
      "Epoch  195 / 200  - Loss:  0.1971  - Accuracy:  76.27 %\n",
      "Epoch  196 / 200  - Loss:  0.205  - Accuracy:  77.73 %\n",
      "Epoch  197 / 200  - Loss:  0.2188  - Accuracy:  72.53 %\n",
      "Epoch  198 / 200  - Loss:  0.2015  - Accuracy:  76.53 %\n",
      "Epoch  199 / 200  - Loss:  0.2033  - Accuracy:  74.67 %\n",
      "Epoch  200 / 200  - Loss:  0.1846  - Accuracy:  77.2 %\n"
     ]
    }
   ],
   "source": [
    "# Input and output dimensions\n",
    "img_dimension = X_train[0].shape\n",
    "num_output_classes = 3\n",
    "\n",
    "# Hyperparameters\n",
    "filter_size = 6\n",
    "num_filters = 1\n",
    "pool_window_size = 2\n",
    "dense_neurons = 95\n",
    "learning_rate = 0.00025\n",
    "epochs = 200\n",
    "batch_size = 750\n",
    "\n",
    "# Model Creation and Training\n",
    "model = CnnModel(img_dimension, filter_size, num_filters, pool_window_size, dense_neurons, num_output_classes)\n",
    "model.train(X_train, y_train, learning_rate, epochs, batch_size)"
   ],
   "metadata": {
    "ExecuteTime": {
     "end_time": "2023-12-10T12:21:48.467082500Z",
     "start_time": "2023-12-10T11:06:04.456666900Z"
    },
    "id": "E9SzZRC1QP8Z",
    "outputId": "77bfdfdd-d185-4a76-e005-8acaebc5ed27",
    "colab": {
     "base_uri": "https://localhost:8080/"
    }
   }
  },
  {
   "cell_type": "code",
   "execution_count": null,
   "outputs": [
    {
     "output_type": "display_data",
     "data": {
      "text/plain": [
       "<Figure size 640x480 with 2 Axes>"
      ],
      "image/png": "[encoded data removed]"
     },
     "metadata": {}
    }
   ],
   "source": [
    "# Training Plots\n",
    "model.plot_training_curves()"
   ],
   "metadata": {
    "ExecuteTime": {
     "end_time": "2023-12-10T12:24:03.409690600Z",
     "start_time": "2023-12-10T12:24:01.092054100Z"
    },
    "id": "QmTxCpRPQP8Z",
    "outputId": "5d038017-ffee-43a6-d175-fa92b77817ee",
    "colab": {
     "base_uri": "https://localhost:8080/",
     "height": 486
    }
   }
  },
  {
   "cell_type": "markdown",
   "source": [
    "### Training scores"
   ],
   "metadata": {
    "id": "o-7rwGZ3zb7E"
   }
  },
  {
   "cell_type": "code",
   "source": [
    "train_acc, train_loss = model.get_stats(X_train,y_train)"
   ],
   "metadata": {
    "id": "QU06-6Gir4zy",
    "ExecuteTime": {
     "end_time": "2023-12-10T12:25:00.166735100Z",
     "start_time": "2023-12-10T12:24:23.461316500Z"
    }
   },
   "execution_count": null,
   "outputs": []
  },
  {
   "cell_type": "code",
   "source": [
    "print(\"Accuracy: \",round(train_acc,4)*100,\"%  Loss\",round(train_loss,3))"
   ],
   "metadata": {
    "colab": {
     "base_uri": "https://localhost:8080/"
    },
    "id": "rJ-d8hcixeQF",
    "outputId": "b776d2aa-fc06-4176-db2c-cf30e1c65c99"
   },
   "execution_count": null,
   "outputs": [
    {
     "output_type": "stream",
     "name": "stdout",
     "text": [
      "Accuracy:  79.83 %  Loss 0.171\n"
     ]
    }
   ]
  },
  {
   "cell_type": "markdown",
   "source": [
    "### Testing scores"
   ],
   "metadata": {
    "id": "dZM4h4nPzTRr"
   }
  },
  {
   "cell_type": "code",
   "source": [
    "test_acc, test_loss = model.get_stats(X_test,y_test)"
   ],
   "metadata": {
    "id": "H5VyeUi-xhvW"
   },
   "execution_count": null,
   "outputs": []
  },
  {
   "cell_type": "code",
   "execution_count": null,
   "outputs": [
    {
     "output_type": "stream",
     "name": "stdout",
     "text": [
      "Accuracy:  75.33 %  Loss 0.236\n"
     ]
    }
   ],
   "source": [
    "print(\"Accuracy: \",round(test_acc,4)*100,\"%  Loss\",round(test_loss,3))"
   ],
   "metadata": {
    "ExecuteTime": {
     "end_time": "2023-12-10T13:06:54.683407300Z",
     "start_time": "2023-12-10T13:06:54.666792400Z"
    },
    "id": "bVO-cvY9QP8a",
    "outputId": "e152543c-3109-47ef-f3b6-95351d2b30bb",
    "colab": {
     "base_uri": "https://localhost:8080/"
    }
   }
  },
  {
   "cell_type": "markdown",
   "source": [
    "# #############################################################"
   ],
   "metadata": {
    "id": "EGvkBBYu3XV2"
   }
  },
  {
   "cell_type": "markdown",
   "source": [
    "# Some sample images"
   ],
   "metadata": {
    "collapsed": false,
    "id": "-Qo4ttOpQP8a"
   }
  },
  {
   "cell_type": "code",
   "source": [
    "sample_indices = np.array([9, 23, 39])\n",
    "\n",
    "for i in sample_indices:\n",
    "  pred = model.predict_img(X_test[i])\n",
    "  print(f'prediction: {np.argmax(pred)}, actual: {np.argmax(y_test[i])}, prediction probability: {round(np.max(pred), 2)}')\n",
    "  plt.imshow(np.transpose(X_test[i], (1, 2, 0)))\n",
    "  figure = plt.gcf()\n",
    "  figure.set_size_inches(2, 2)\n",
    "  plt.show()"
   ],
   "metadata": {
    "colab": {
     "base_uri": "https://localhost:8080/",
     "height": 669
    },
    "id": "wI9PaWoX3bQ8",
    "outputId": "635ecba7-aa2d-4cc4-e148-f1293679991d",
    "ExecuteTime": {
     "end_time": "2023-12-10T12:28:13.621631400Z",
     "start_time": "2023-12-10T12:28:13.298857200Z"
    }
   },
   "execution_count": null,
   "outputs": [
    {
     "output_type": "stream",
     "name": "stdout",
     "text": [
      "prediction: 2, actual: 2, prediction probability: 0.68\n"
     ]
    },
    {
     "output_type": "display_data",
     "data": {
      "text/plain": [
       "<Figure size 200x200 with 1 Axes>"
      ],
      "image/png": "[encoded data removed]"
     },
     "metadata": {}
    },
    {
     "output_type": "stream",
     "name": "stdout",
     "text": [
      "prediction: 1, actual: 1, prediction probability: 0.88\n"
     ]
    },
    {
     "output_type": "display_data",
     "data": {
      "text/plain": [
       "<Figure size 200x200 with 1 Axes>"
      ],
      "image/png": "[encoded data removed]"
     },
     "metadata": {}
    },
    {
     "output_type": "stream",
     "name": "stdout",
     "text": [
      "prediction: 0, actual: 0, prediction probability: 0.92\n"
     ]
    },
    {
     "output_type": "display_data",
     "data": {
      "text/plain": [
       "<Figure size 200x200 with 1 Axes>"
      ],
      "image/png": "[encoded data removed]"
     },
     "metadata": {}
    }
   ]
  }
 ]
}
